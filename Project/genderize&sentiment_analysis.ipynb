{
  "nbformat": 4,
  "nbformat_minor": 0,
  "metadata": {
    "colab": {
      "name": "genderize&sentiment analysis.ipynb",
      "provenance": [],
      "collapsed_sections": [],
      "authorship_tag": "ABX9TyNWlO+75UGim27zSHX15hst",
      "include_colab_link": true
    },
    "kernelspec": {
      "name": "python3",
      "display_name": "Python 3"
    },
    "language_info": {
      "name": "python"
    }
  },
  "cells": [
    {
      "cell_type": "markdown",
      "metadata": {
        "id": "view-in-github",
        "colab_type": "text"
      },
      "source": [
        "<a href=\"https://colab.research.google.com/github/HongyuGu/2021/blob/master/genderize%26sentiment_analysis.ipynb\" target=\"_parent\"><img src=\"https://colab.research.google.com/assets/colab-badge.svg\" alt=\"Open In Colab\"/></a>"
      ]
    },
    {
      "cell_type": "markdown",
      "source": [
        "\n",
        "# Genderize Analysis"
      ],
      "metadata": {
        "id": "l5uMSaS9jQjC"
      }
    },
    {
      "cell_type": "markdown",
      "source": [
        "## Introduction"
      ],
      "metadata": {
        "id": "3ZJaaG5TjnaG"
      }
    },
    {
      "cell_type": "markdown",
      "source": [
        "Now we've get the data we need. Here we'll find out the gender's effect on quotations. Firstly we'll extact the data of male and female respectively. Then we'll sample the quotation, 10000 quotations each time, to detect how many female and male mentioned anxious word in their quotations. As sentiment analysis, the polarity of a quotation is also considered."
      ],
      "metadata": {
        "id": "DDG5DAzXjzaG"
      }
    },
    {
      "cell_type": "code",
      "source": [
        "from google.colab import drive\n",
        "drive.mount('/content/drive')"
      ],
      "metadata": {
        "colab": {
          "base_uri": "https://localhost:8080/"
        },
        "id": "56ha-pfVpQDh",
        "outputId": "a5532b7e-05d9-429c-ac9c-ab695bce8506"
      },
      "execution_count": 4,
      "outputs": [
        {
          "output_type": "stream",
          "name": "stdout",
          "text": [
            "Mounted at /content/drive\n"
          ]
        }
      ]
    },
    {
      "cell_type": "code",
      "source": [
        "pip install gender-guesser #install gender-guesser to split female and male speakers"
      ],
      "metadata": {
        "colab": {
          "base_uri": "https://localhost:8080/"
        },
        "id": "oP_WG2AFniEF",
        "outputId": "9d6a8246-e346-4447-a8f2-8d9921f9a940"
      },
      "execution_count": 5,
      "outputs": [
        {
          "output_type": "stream",
          "name": "stdout",
          "text": [
            "Collecting gender-guesser\n",
            "  Downloading gender_guesser-0.4.0-py2.py3-none-any.whl (379 kB)\n",
            "\u001b[?25l\r\u001b[K     |▉                               | 10 kB 15.1 MB/s eta 0:00:01\r\u001b[K     |█▊                              | 20 kB 20.1 MB/s eta 0:00:01\r\u001b[K     |██▋                             | 30 kB 24.9 MB/s eta 0:00:01\r\u001b[K     |███▌                            | 40 kB 24.2 MB/s eta 0:00:01\r\u001b[K     |████▎                           | 51 kB 9.4 MB/s eta 0:00:01\r\u001b[K     |█████▏                          | 61 kB 9.6 MB/s eta 0:00:01\r\u001b[K     |██████                          | 71 kB 8.4 MB/s eta 0:00:01\r\u001b[K     |███████                         | 81 kB 9.2 MB/s eta 0:00:01\r\u001b[K     |███████▊                        | 92 kB 9.0 MB/s eta 0:00:01\r\u001b[K     |████████▋                       | 102 kB 8.4 MB/s eta 0:00:01\r\u001b[K     |█████████▌                      | 112 kB 8.4 MB/s eta 0:00:01\r\u001b[K     |██████████▍                     | 122 kB 8.4 MB/s eta 0:00:01\r\u001b[K     |███████████▎                    | 133 kB 8.4 MB/s eta 0:00:01\r\u001b[K     |████████████                    | 143 kB 8.4 MB/s eta 0:00:01\r\u001b[K     |█████████████                   | 153 kB 8.4 MB/s eta 0:00:01\r\u001b[K     |█████████████▉                  | 163 kB 8.4 MB/s eta 0:00:01\r\u001b[K     |██████████████▊                 | 174 kB 8.4 MB/s eta 0:00:01\r\u001b[K     |███████████████▌                | 184 kB 8.4 MB/s eta 0:00:01\r\u001b[K     |████████████████▍               | 194 kB 8.4 MB/s eta 0:00:01\r\u001b[K     |█████████████████▎              | 204 kB 8.4 MB/s eta 0:00:01\r\u001b[K     |██████████████████▏             | 215 kB 8.4 MB/s eta 0:00:01\r\u001b[K     |███████████████████             | 225 kB 8.4 MB/s eta 0:00:01\r\u001b[K     |███████████████████▉            | 235 kB 8.4 MB/s eta 0:00:01\r\u001b[K     |████████████████████▊           | 245 kB 8.4 MB/s eta 0:00:01\r\u001b[K     |█████████████████████▋          | 256 kB 8.4 MB/s eta 0:00:01\r\u001b[K     |██████████████████████▌         | 266 kB 8.4 MB/s eta 0:00:01\r\u001b[K     |███████████████████████▎        | 276 kB 8.4 MB/s eta 0:00:01\r\u001b[K     |████████████████████████▏       | 286 kB 8.4 MB/s eta 0:00:01\r\u001b[K     |█████████████████████████       | 296 kB 8.4 MB/s eta 0:00:01\r\u001b[K     |██████████████████████████      | 307 kB 8.4 MB/s eta 0:00:01\r\u001b[K     |██████████████████████████▉     | 317 kB 8.4 MB/s eta 0:00:01\r\u001b[K     |███████████████████████████▋    | 327 kB 8.4 MB/s eta 0:00:01\r\u001b[K     |████████████████████████████▌   | 337 kB 8.4 MB/s eta 0:00:01\r\u001b[K     |█████████████████████████████▍  | 348 kB 8.4 MB/s eta 0:00:01\r\u001b[K     |██████████████████████████████▎ | 358 kB 8.4 MB/s eta 0:00:01\r\u001b[K     |███████████████████████████████ | 368 kB 8.4 MB/s eta 0:00:01\r\u001b[K     |████████████████████████████████| 378 kB 8.4 MB/s eta 0:00:01\r\u001b[K     |████████████████████████████████| 379 kB 8.4 MB/s \n",
            "\u001b[?25hInstalling collected packages: gender-guesser\n",
            "Successfully installed gender-guesser-0.4.0\n"
          ]
        }
      ]
    },
    {
      "cell_type": "code",
      "metadata": {
        "colab": {
          "base_uri": "https://localhost:8080/"
        },
        "id": "Fq8aXepkra-q",
        "outputId": "70ba6a9c-05a8-4788-f213-711fa8281f1a"
      },
      "source": [
        "import pandas as pd\n",
        "import matplotlib.pyplot as plt\n",
        "import spacy, nltk, sklearn\n",
        "import numpy as np\n",
        "from nltk import wordpunct_tokenize\n",
        "\n",
        "nltk.download('stopwords')\n",
        "from nltk.corpus import stopwords\n",
        "stopwords = set(stopwords.words('english'))\n",
        "from textblob import TextBlob\n",
        "import dateutil.parser\n",
        "import gender_guesser.detector as gender\n",
        "import seaborn as sns"
      ],
      "execution_count": 6,
      "outputs": [
        {
          "output_type": "stream",
          "name": "stdout",
          "text": [
            "[nltk_data] Downloading package stopwords to /root/nltk_data...\n",
            "[nltk_data]   Package stopwords is already up-to-date!\n"
          ]
        }
      ]
    },
    {
      "cell_type": "markdown",
      "source": [
        "## Analysis for each year"
      ],
      "metadata": {
        "id": "wTeNCPenfdLx"
      }
    },
    {
      "cell_type": "code",
      "metadata": {
        "id": "9pENgzZdraeE"
      },
      "source": [
        "selected_columns= pd.read_csv(\"/content/drive/MyDrive/Colab_bbear/gender_data/selected_columns_2019.csv\")"
      ],
      "execution_count": 24,
      "outputs": []
    },
    {
      "cell_type": "code",
      "source": [
        "\n",
        "# The result of gender guesser will be one of 'unknown' (name not found), 'andy' (androgynous), 'male', 'female', 'mostly_male', or 'mostly_female'.\n",
        "# here we regard 'female' and 'mostly female' as female speaker\n",
        "# extract the female and male data respectively\n",
        "\n",
        "\n",
        "female_columns=selected_columns[(selected_columns.gender=='female')| (selected_columns.gender=='mostly_female')]\n",
        "\n",
        "male_columns=selected_columns[(selected_columns.gender=='male')| (selected_columns.gender=='mostly_male')]\n",
        "\n",
        "\n",
        " "
      ],
      "metadata": {
        "id": "zxvA88FxNKx7"
      },
      "execution_count": 134,
      "outputs": []
    },
    {
      "cell_type": "code",
      "source": [
        "#count the number of female quotations with anxious words\n",
        "#to make sure our method more scientific and rational, we sampled the data 30 times, with 10,000 samples each time\n",
        "lst1= np.zeros(30)\n",
        "for i in range(0,30):\n",
        "  female_sample= female_columns.sample(10000, random_state= i)\n",
        "  female_sample.reset_index(inplace= True)\n",
        "  counter= 0\n",
        "  for j in range (len(female_sample.speaker)):\n",
        "    if female_sample.anxiety_feature[j]== 1:\n",
        "      counter+= 1\n",
        "  lst1[i]= counter    # 30 numbers of female quotations with anxious words\n"
      ],
      "metadata": {
        "id": "IoFRs37YW3vs"
      },
      "execution_count": 135,
      "outputs": []
    },
    {
      "cell_type": "code",
      "source": [
        "#count the number of male quotations with anxious words\n",
        "lst2= np.zeros(30)\n",
        "for i in range(0,30):\n",
        "  male_sample= male_columns.sample(10000, random_state= i )\n",
        "  male_sample.reset_index(inplace= True)\n",
        "  counter= 0\n",
        "  for j in range (len(male_sample.speaker)):\n",
        "    if male_sample.anxiety_feature[j]== 1:\n",
        "      counter+= 1\n",
        "  lst2[i]= counter    # 30 numbers of male quotations with anxious words\n",
        "      \n"
      ],
      "metadata": {
        "id": "X0ka-RBUfTwK"
      },
      "execution_count": 136,
      "outputs": []
    },
    {
      "cell_type": "code",
      "source": [
        "#merge the data into a dataframe\n",
        "data = pd.DataFrame(data=(lst1, lst2))"
      ],
      "metadata": {
        "id": "hDGQBAv3gsX2"
      },
      "execution_count": 137,
      "outputs": []
    },
    {
      "cell_type": "code",
      "source": [
        "fig = plt.figure(figsize =(10, 7))\n",
        " \n",
        "# Creating plot\n",
        "plt.xlabel(\"2015\")\n",
        "plt.ylabel(\"Number of quotes\")\n",
        "plt.title('genderize with 1 mask in 2015')\n",
        "plt.boxplot(data)\n",
        "plt.xticks([1, 2], ['female', 'male'])\n",
        "# show plot\n",
        "\n",
        "#plt.savefig('genderize with 1 mask in 2015')"
      ],
      "metadata": {
        "colab": {
          "base_uri": "https://localhost:8080/",
          "height": 513
        },
        "id": "IJA2VhWHf1B9",
        "outputId": "98176d2f-ab6f-4869-c3d1-cb3854296fdc"
      },
      "execution_count": 138,
      "outputs": [
        {
          "output_type": "execute_result",
          "data": {
            "text/plain": [
              "([<matplotlib.axis.XTick at 0x7fad6ee7d850>,\n",
              "  <matplotlib.axis.XTick at 0x7fad6ee7dc50>],\n",
              " [Text(0, 0, 'female'), Text(0, 0, 'male')])"
            ]
          },
          "metadata": {},
          "execution_count": 138
        },
        {
          "output_type": "display_data",
          "data": {
            "image/png": "[encoded data removed]",
            "text/plain": [
              "<Figure size 720x504 with 1 Axes>"
            ]
          },
          "metadata": {
            "needs_background": "light"
          }
        }
      ]
    },
    {
      "cell_type": "code",
      "source": [
        "#extract females' quotations with 2 masks\n",
        "#mask1: anxious words\n",
        "#mask2: polarity<= 0, which means the quotation is negtive. to delete some illogical quotations we don't want e.g. postive qoutation but with anxious words\n",
        "lst3= np.zeros(30)\n",
        "for i in range(0,30):\n",
        "  female_sample= female_columns.sample(10000, random_state= i)\n",
        "  female_sample.reset_index(inplace= True)\n",
        "  counter= 0\n",
        "  for j in range (len(female_sample.speaker)):\n",
        "    if (female_sample.anxiety_feature[j]== 1)& (female_sample.polarity[j]<= 0):\n",
        "      counter+= 1\n",
        "  lst3[i]= counter   # 30 numbers of female quotations with anxious words & negative"
      ],
      "metadata": {
        "id": "cpxS3-ghv_JA"
      },
      "execution_count": 139,
      "outputs": []
    },
    {
      "cell_type": "code",
      "source": [
        "#extract males with 2 masks\n",
        "lst4= np.zeros(30)\n",
        "for i in range(0,30):\n",
        "  male_sample= male_columns.sample(10000, random_state= i)\n",
        "  male_sample.reset_index(inplace= True)\n",
        "  counter= 0\n",
        "  for j in range (len(male_sample.speaker)):\n",
        "    if (male_sample.anxiety_feature[j]== 1)& (male_sample.polarity[j]<= 0):\n",
        "      counter+= 1\n",
        "  lst4[i]= counter   # 30 numbers of male quotations with anxious words & negative"
      ],
      "metadata": {
        "id": "7MDYB2EzwfX3"
      },
      "execution_count": 140,
      "outputs": []
    },
    {
      "cell_type": "code",
      "source": [
        "#merge the data into a dataframe\n",
        "data2 = pd.DataFrame(data=(lst3, lst4))"
      ],
      "metadata": {
        "id": "gpsj_qVmwsmq"
      },
      "execution_count": 141,
      "outputs": []
    },
    {
      "cell_type": "code",
      "source": [
        "data2.to_csv('2019_2masks.csv')"
      ],
      "metadata": {
        "id": "hFt_L7ka3pjV"
      },
      "execution_count": 142,
      "outputs": []
    },
    {
      "cell_type": "code",
      "source": [
        "fig = plt.figure(figsize =(10, 7))\n",
        " \n",
        "# Creating plot\n",
        "plt.xlabel(\"2019\")\n",
        "plt.ylabel(\"Number of quotes\")\n",
        "plt.title('genderize with 2 masks in 2019')\n",
        "plt.boxplot(data2)\n",
        "plt.xticks([1, 2], ['female', 'male'])\n",
        "# show plot\n",
        "\n",
        "plt.savefig('genderize with 2 masks in 2019')"
      ],
      "metadata": {
        "colab": {
          "base_uri": "https://localhost:8080/",
          "height": 458
        },
        "id": "-oROERG6pfWt",
        "outputId": "1e604081-2781-4e60-994f-88ed8947129f"
      },
      "execution_count": 143,
      "outputs": [
        {
          "output_type": "display_data",
          "data": {
            "image/png": "[encoded data removed]",
            "text/plain": [
              "<Figure size 720x504 with 1 Axes>"
            ]
          },
          "metadata": {
            "needs_background": "light"
          }
        }
      ]
    },
    {
      "cell_type": "markdown",
      "source": [
        "\n",
        "\n",
        "## Analysis for the four years\n",
        "\n"
      ],
      "metadata": {
        "id": "osIXkIwnfQJW"
      }
    },
    {
      "cell_type": "code",
      "source": [
        "#read the data\n",
        "#mask1: anxious words\n",
        "#mask2: polarity<= 0\n",
        "df_2019mask1 = pd.read_csv(\"/content/drive/MyDrive/Colab_bbear/gender_data/2019_1mask.csv\").T\n",
        "df_2018mask1 = pd.read_csv(\"/content/drive/MyDrive/Colab_bbear/gender_data/2018_1mask.csv\").T\n",
        "df_2017mask1 = pd.read_csv(\"/content/drive/MyDrive/Colab_bbear/gender_data/2017_1mask.csv\").T\n",
        "df_2015mask1 = pd.read_csv(\"/content/drive/MyDrive/Colab_bbear/gender_data/2015_1mask.csv\").T\n",
        "df_2019mask2 = pd.read_csv(\"/content/drive/MyDrive/Colab_bbear/gender_data/2019_2masks.csv\").T\n",
        "df_2018mask2 = pd.read_csv(\"/content/drive/MyDrive/Colab_bbear/gender_data/2018_2masks.csv\").T\n",
        "df_2017mask2 = pd.read_csv(\"/content/drive/MyDrive/Colab_bbear/gender_data/2017_2masks.csv\").T\n",
        "df_2015mask2 = pd.read_csv(\"/content/drive/MyDrive/Colab_bbear/gender_data/2015_2masks.csv\").T"
      ],
      "metadata": {
        "id": "CDqesDcbp82n"
      },
      "execution_count": 7,
      "outputs": []
    },
    {
      "cell_type": "code",
      "source": [
        "#concatenate data\n",
        "df1= pd.concat([df_2015mask1, df_2017mask1, df_2018mask1, df_2019mask1], axis= 1)\n",
        "df2= pd.concat([df_2015mask2, df_2017mask2, df_2018mask2, df_2019mask2], axis= 1)"
      ],
      "metadata": {
        "id": "FaFCHqEkOZmO"
      },
      "execution_count": 8,
      "outputs": []
    },
    {
      "cell_type": "code",
      "source": [
        "#optimal the structure of the dataframe\n",
        "df1.drop(index=['Unnamed: 0'], inplace= True)\n",
        "df2.drop(index=['Unnamed: 0'], inplace= True)"
      ],
      "metadata": {
        "id": "x1YrazznRFhJ"
      },
      "execution_count": 9,
      "outputs": []
    },
    {
      "cell_type": "code",
      "source": [
        "#rename the columns\n",
        "df1.columns = ['2015F','2015M','2017F','2017M','2018F','2018M','2019F','2019M']\n",
        "df2.columns = ['2015F','2015M','2017F','2017M','2018F','2018M','2019F','2019M']"
      ],
      "metadata": {
        "id": "1hPbZl57ddXL"
      },
      "execution_count": 27,
      "outputs": []
    },
    {
      "cell_type": "code",
      "source": [
        "df1"
      ],
      "metadata": {
        "colab": {
          "base_uri": "https://localhost:8080/",
          "height": 990
        },
        "id": "m5FoeGqRc-1m",
        "outputId": "c4bf7ddc-284d-4035-cf16-fe0a45b5eef8"
      },
      "execution_count": 34,
      "outputs": [
        {
          "output_type": "execute_result",
          "data": {
            "text/html": [
              "<div>\n",
              "<style scoped>\n",
              "    .dataframe tbody tr th:only-of-type {\n",
              "        vertical-align: middle;\n",
              "    }\n",
              "\n",
              "    .dataframe tbody tr th {\n",
              "        vertical-align: top;\n",
              "    }\n",
              "\n",
              "    .dataframe thead th {\n",
              "        text-align: right;\n",
              "    }\n",
              "</style>\n",
              "<table border=\"1\" class=\"dataframe\">\n",
              "  <thead>\n",
              "    <tr style=\"text-align: right;\">\n",
              "      <th></th>\n",
              "      <th>2015F</th>\n",
              "      <th>2015M</th>\n",
              "      <th>2017F</th>\n",
              "      <th>2017M</th>\n",
              "      <th>2018F</th>\n",
              "      <th>2018M</th>\n",
              "      <th>2019F</th>\n",
              "      <th>2019M</th>\n",
              "    </tr>\n",
              "  </thead>\n",
              "  <tbody>\n",
              "    <tr>\n",
              "      <th>0</th>\n",
              "      <td>648.0</td>\n",
              "      <td>610.0</td>\n",
              "      <td>704.0</td>\n",
              "      <td>624.0</td>\n",
              "      <td>743.0</td>\n",
              "      <td>621.0</td>\n",
              "      <td>716.0</td>\n",
              "      <td>628.0</td>\n",
              "    </tr>\n",
              "    <tr>\n",
              "      <th>1</th>\n",
              "      <td>706.0</td>\n",
              "      <td>626.0</td>\n",
              "      <td>710.0</td>\n",
              "      <td>591.0</td>\n",
              "      <td>750.0</td>\n",
              "      <td>613.0</td>\n",
              "      <td>705.0</td>\n",
              "      <td>652.0</td>\n",
              "    </tr>\n",
              "    <tr>\n",
              "      <th>2</th>\n",
              "      <td>696.0</td>\n",
              "      <td>624.0</td>\n",
              "      <td>652.0</td>\n",
              "      <td>640.0</td>\n",
              "      <td>708.0</td>\n",
              "      <td>612.0</td>\n",
              "      <td>652.0</td>\n",
              "      <td>646.0</td>\n",
              "    </tr>\n",
              "    <tr>\n",
              "      <th>3</th>\n",
              "      <td>692.0</td>\n",
              "      <td>658.0</td>\n",
              "      <td>707.0</td>\n",
              "      <td>627.0</td>\n",
              "      <td>731.0</td>\n",
              "      <td>623.0</td>\n",
              "      <td>746.0</td>\n",
              "      <td>597.0</td>\n",
              "    </tr>\n",
              "    <tr>\n",
              "      <th>4</th>\n",
              "      <td>737.0</td>\n",
              "      <td>646.0</td>\n",
              "      <td>736.0</td>\n",
              "      <td>628.0</td>\n",
              "      <td>757.0</td>\n",
              "      <td>579.0</td>\n",
              "      <td>729.0</td>\n",
              "      <td>606.0</td>\n",
              "    </tr>\n",
              "    <tr>\n",
              "      <th>5</th>\n",
              "      <td>670.0</td>\n",
              "      <td>589.0</td>\n",
              "      <td>688.0</td>\n",
              "      <td>635.0</td>\n",
              "      <td>718.0</td>\n",
              "      <td>631.0</td>\n",
              "      <td>701.0</td>\n",
              "      <td>614.0</td>\n",
              "    </tr>\n",
              "    <tr>\n",
              "      <th>6</th>\n",
              "      <td>703.0</td>\n",
              "      <td>636.0</td>\n",
              "      <td>716.0</td>\n",
              "      <td>652.0</td>\n",
              "      <td>719.0</td>\n",
              "      <td>597.0</td>\n",
              "      <td>694.0</td>\n",
              "      <td>588.0</td>\n",
              "    </tr>\n",
              "    <tr>\n",
              "      <th>7</th>\n",
              "      <td>707.0</td>\n",
              "      <td>610.0</td>\n",
              "      <td>681.0</td>\n",
              "      <td>596.0</td>\n",
              "      <td>759.0</td>\n",
              "      <td>619.0</td>\n",
              "      <td>719.0</td>\n",
              "      <td>652.0</td>\n",
              "    </tr>\n",
              "    <tr>\n",
              "      <th>8</th>\n",
              "      <td>699.0</td>\n",
              "      <td>620.0</td>\n",
              "      <td>692.0</td>\n",
              "      <td>651.0</td>\n",
              "      <td>720.0</td>\n",
              "      <td>610.0</td>\n",
              "      <td>721.0</td>\n",
              "      <td>676.0</td>\n",
              "    </tr>\n",
              "    <tr>\n",
              "      <th>9</th>\n",
              "      <td>728.0</td>\n",
              "      <td>654.0</td>\n",
              "      <td>722.0</td>\n",
              "      <td>622.0</td>\n",
              "      <td>729.0</td>\n",
              "      <td>656.0</td>\n",
              "      <td>745.0</td>\n",
              "      <td>654.0</td>\n",
              "    </tr>\n",
              "    <tr>\n",
              "      <th>10</th>\n",
              "      <td>683.0</td>\n",
              "      <td>631.0</td>\n",
              "      <td>701.0</td>\n",
              "      <td>629.0</td>\n",
              "      <td>698.0</td>\n",
              "      <td>636.0</td>\n",
              "      <td>710.0</td>\n",
              "      <td>641.0</td>\n",
              "    </tr>\n",
              "    <tr>\n",
              "      <th>11</th>\n",
              "      <td>668.0</td>\n",
              "      <td>641.0</td>\n",
              "      <td>724.0</td>\n",
              "      <td>662.0</td>\n",
              "      <td>706.0</td>\n",
              "      <td>685.0</td>\n",
              "      <td>771.0</td>\n",
              "      <td>657.0</td>\n",
              "    </tr>\n",
              "    <tr>\n",
              "      <th>12</th>\n",
              "      <td>699.0</td>\n",
              "      <td>644.0</td>\n",
              "      <td>728.0</td>\n",
              "      <td>651.0</td>\n",
              "      <td>738.0</td>\n",
              "      <td>619.0</td>\n",
              "      <td>697.0</td>\n",
              "      <td>695.0</td>\n",
              "    </tr>\n",
              "    <tr>\n",
              "      <th>13</th>\n",
              "      <td>717.0</td>\n",
              "      <td>596.0</td>\n",
              "      <td>730.0</td>\n",
              "      <td>581.0</td>\n",
              "      <td>742.0</td>\n",
              "      <td>612.0</td>\n",
              "      <td>704.0</td>\n",
              "      <td>606.0</td>\n",
              "    </tr>\n",
              "    <tr>\n",
              "      <th>14</th>\n",
              "      <td>683.0</td>\n",
              "      <td>620.0</td>\n",
              "      <td>716.0</td>\n",
              "      <td>603.0</td>\n",
              "      <td>727.0</td>\n",
              "      <td>644.0</td>\n",
              "      <td>731.0</td>\n",
              "      <td>625.0</td>\n",
              "    </tr>\n",
              "    <tr>\n",
              "      <th>15</th>\n",
              "      <td>749.0</td>\n",
              "      <td>609.0</td>\n",
              "      <td>707.0</td>\n",
              "      <td>643.0</td>\n",
              "      <td>715.0</td>\n",
              "      <td>614.0</td>\n",
              "      <td>713.0</td>\n",
              "      <td>649.0</td>\n",
              "    </tr>\n",
              "    <tr>\n",
              "      <th>16</th>\n",
              "      <td>674.0</td>\n",
              "      <td>622.0</td>\n",
              "      <td>722.0</td>\n",
              "      <td>615.0</td>\n",
              "      <td>745.0</td>\n",
              "      <td>637.0</td>\n",
              "      <td>743.0</td>\n",
              "      <td>669.0</td>\n",
              "    </tr>\n",
              "    <tr>\n",
              "      <th>17</th>\n",
              "      <td>702.0</td>\n",
              "      <td>640.0</td>\n",
              "      <td>714.0</td>\n",
              "      <td>615.0</td>\n",
              "      <td>734.0</td>\n",
              "      <td>640.0</td>\n",
              "      <td>737.0</td>\n",
              "      <td>617.0</td>\n",
              "    </tr>\n",
              "    <tr>\n",
              "      <th>18</th>\n",
              "      <td>669.0</td>\n",
              "      <td>612.0</td>\n",
              "      <td>680.0</td>\n",
              "      <td>633.0</td>\n",
              "      <td>744.0</td>\n",
              "      <td>616.0</td>\n",
              "      <td>760.0</td>\n",
              "      <td>648.0</td>\n",
              "    </tr>\n",
              "    <tr>\n",
              "      <th>19</th>\n",
              "      <td>707.0</td>\n",
              "      <td>646.0</td>\n",
              "      <td>740.0</td>\n",
              "      <td>643.0</td>\n",
              "      <td>676.0</td>\n",
              "      <td>612.0</td>\n",
              "      <td>711.0</td>\n",
              "      <td>634.0</td>\n",
              "    </tr>\n",
              "    <tr>\n",
              "      <th>20</th>\n",
              "      <td>729.0</td>\n",
              "      <td>635.0</td>\n",
              "      <td>714.0</td>\n",
              "      <td>664.0</td>\n",
              "      <td>696.0</td>\n",
              "      <td>640.0</td>\n",
              "      <td>703.0</td>\n",
              "      <td>670.0</td>\n",
              "    </tr>\n",
              "    <tr>\n",
              "      <th>21</th>\n",
              "      <td>650.0</td>\n",
              "      <td>605.0</td>\n",
              "      <td>772.0</td>\n",
              "      <td>648.0</td>\n",
              "      <td>715.0</td>\n",
              "      <td>612.0</td>\n",
              "      <td>703.0</td>\n",
              "      <td>648.0</td>\n",
              "    </tr>\n",
              "    <tr>\n",
              "      <th>22</th>\n",
              "      <td>681.0</td>\n",
              "      <td>612.0</td>\n",
              "      <td>710.0</td>\n",
              "      <td>660.0</td>\n",
              "      <td>705.0</td>\n",
              "      <td>628.0</td>\n",
              "      <td>716.0</td>\n",
              "      <td>629.0</td>\n",
              "    </tr>\n",
              "    <tr>\n",
              "      <th>23</th>\n",
              "      <td>680.0</td>\n",
              "      <td>645.0</td>\n",
              "      <td>708.0</td>\n",
              "      <td>643.0</td>\n",
              "      <td>669.0</td>\n",
              "      <td>611.0</td>\n",
              "      <td>701.0</td>\n",
              "      <td>645.0</td>\n",
              "    </tr>\n",
              "    <tr>\n",
              "      <th>24</th>\n",
              "      <td>713.0</td>\n",
              "      <td>627.0</td>\n",
              "      <td>681.0</td>\n",
              "      <td>631.0</td>\n",
              "      <td>711.0</td>\n",
              "      <td>603.0</td>\n",
              "      <td>735.0</td>\n",
              "      <td>638.0</td>\n",
              "    </tr>\n",
              "    <tr>\n",
              "      <th>25</th>\n",
              "      <td>709.0</td>\n",
              "      <td>598.0</td>\n",
              "      <td>671.0</td>\n",
              "      <td>612.0</td>\n",
              "      <td>714.0</td>\n",
              "      <td>656.0</td>\n",
              "      <td>749.0</td>\n",
              "      <td>626.0</td>\n",
              "    </tr>\n",
              "    <tr>\n",
              "      <th>26</th>\n",
              "      <td>696.0</td>\n",
              "      <td>590.0</td>\n",
              "      <td>718.0</td>\n",
              "      <td>579.0</td>\n",
              "      <td>690.0</td>\n",
              "      <td>584.0</td>\n",
              "      <td>721.0</td>\n",
              "      <td>595.0</td>\n",
              "    </tr>\n",
              "    <tr>\n",
              "      <th>27</th>\n",
              "      <td>710.0</td>\n",
              "      <td>688.0</td>\n",
              "      <td>663.0</td>\n",
              "      <td>614.0</td>\n",
              "      <td>692.0</td>\n",
              "      <td>648.0</td>\n",
              "      <td>745.0</td>\n",
              "      <td>693.0</td>\n",
              "    </tr>\n",
              "    <tr>\n",
              "      <th>28</th>\n",
              "      <td>731.0</td>\n",
              "      <td>603.0</td>\n",
              "      <td>659.0</td>\n",
              "      <td>664.0</td>\n",
              "      <td>738.0</td>\n",
              "      <td>610.0</td>\n",
              "      <td>735.0</td>\n",
              "      <td>649.0</td>\n",
              "    </tr>\n",
              "    <tr>\n",
              "      <th>29</th>\n",
              "      <td>691.0</td>\n",
              "      <td>617.0</td>\n",
              "      <td>704.0</td>\n",
              "      <td>655.0</td>\n",
              "      <td>693.0</td>\n",
              "      <td>610.0</td>\n",
              "      <td>709.0</td>\n",
              "      <td>650.0</td>\n",
              "    </tr>\n",
              "  </tbody>\n",
              "</table>\n",
              "</div>"
            ],
            "text/plain": [
              "    2015F  2015M  2017F  2017M  2018F  2018M  2019F  2019M\n",
              "0   648.0  610.0  704.0  624.0  743.0  621.0  716.0  628.0\n",
              "1   706.0  626.0  710.0  591.0  750.0  613.0  705.0  652.0\n",
              "2   696.0  624.0  652.0  640.0  708.0  612.0  652.0  646.0\n",
              "3   692.0  658.0  707.0  627.0  731.0  623.0  746.0  597.0\n",
              "4   737.0  646.0  736.0  628.0  757.0  579.0  729.0  606.0\n",
              "5   670.0  589.0  688.0  635.0  718.0  631.0  701.0  614.0\n",
              "6   703.0  636.0  716.0  652.0  719.0  597.0  694.0  588.0\n",
              "7   707.0  610.0  681.0  596.0  759.0  619.0  719.0  652.0\n",
              "8   699.0  620.0  692.0  651.0  720.0  610.0  721.0  676.0\n",
              "9   728.0  654.0  722.0  622.0  729.0  656.0  745.0  654.0\n",
              "10  683.0  631.0  701.0  629.0  698.0  636.0  710.0  641.0\n",
              "11  668.0  641.0  724.0  662.0  706.0  685.0  771.0  657.0\n",
              "12  699.0  644.0  728.0  651.0  738.0  619.0  697.0  695.0\n",
              "13  717.0  596.0  730.0  581.0  742.0  612.0  704.0  606.0\n",
              "14  683.0  620.0  716.0  603.0  727.0  644.0  731.0  625.0\n",
              "15  749.0  609.0  707.0  643.0  715.0  614.0  713.0  649.0\n",
              "16  674.0  622.0  722.0  615.0  745.0  637.0  743.0  669.0\n",
              "17  702.0  640.0  714.0  615.0  734.0  640.0  737.0  617.0\n",
              "18  669.0  612.0  680.0  633.0  744.0  616.0  760.0  648.0\n",
              "19  707.0  646.0  740.0  643.0  676.0  612.0  711.0  634.0\n",
              "20  729.0  635.0  714.0  664.0  696.0  640.0  703.0  670.0\n",
              "21  650.0  605.0  772.0  648.0  715.0  612.0  703.0  648.0\n",
              "22  681.0  612.0  710.0  660.0  705.0  628.0  716.0  629.0\n",
              "23  680.0  645.0  708.0  643.0  669.0  611.0  701.0  645.0\n",
              "24  713.0  627.0  681.0  631.0  711.0  603.0  735.0  638.0\n",
              "25  709.0  598.0  671.0  612.0  714.0  656.0  749.0  626.0\n",
              "26  696.0  590.0  718.0  579.0  690.0  584.0  721.0  595.0\n",
              "27  710.0  688.0  663.0  614.0  692.0  648.0  745.0  693.0\n",
              "28  731.0  603.0  659.0  664.0  738.0  610.0  735.0  649.0\n",
              "29  691.0  617.0  704.0  655.0  693.0  610.0  709.0  650.0"
            ]
          },
          "metadata": {},
          "execution_count": 34
        }
      ]
    },
    {
      "cell_type": "code",
      "source": [
        "#plot figure using Seaborn\n",
        "color= {'2015F': 'b','2017F': 'b','2018F': 'b','2019F': 'b', '2015M': 'g','2017M': 'g','2018M': 'g','2019M': 'g'}\n",
        "sns.boxplot(data=df1, palette=color)\n",
        "\n",
        "plt.xlabel(\"all quotations with anxious word\")\n",
        "plt.ylabel(\"Number of quotes\")\n",
        "plt.title('Gender effect on anxious quotation in these four years')"
      ],
      "metadata": {
        "colab": {
          "base_uri": "https://localhost:8080/",
          "height": 313
        },
        "id": "SgIOSD46SkqP",
        "outputId": "1b0c24b5-63f9-4088-8741-0838983fd5b9"
      },
      "execution_count": 39,
      "outputs": [
        {
          "output_type": "execute_result",
          "data": {
            "text/plain": [
              "Text(0.5, 1.0, 'Gender effect on anxious quotation in these four years')"
            ]
          },
          "metadata": {},
          "execution_count": 39
        },
        {
          "output_type": "display_data",
          "data": {
            "image/png": "[encoded data removed]",
            "text/plain": [
              "<Figure size 432x288 with 1 Axes>"
            ]
          },
          "metadata": {
            "needs_background": "light"
          }
        }
      ]
    },
    {
      "cell_type": "code",
      "source": [
        "color= {'2015F': 'b','2017F': 'b','2018F': 'b','2019F': 'b', '2015M': 'g','2017M': 'g','2018M': 'g','2019M': 'g'}\n",
        "sns.boxplot(data=df2, palette=color)\n",
        "plt.xlabel(\"negtive quotations with anxious word\")\n",
        "plt.ylabel(\"Number of quotes\")\n",
        "plt.title('Gender effect on anxious quotation in these four years')\n",
        "plt.savefig('gender effect')"
      ],
      "metadata": {
        "colab": {
          "base_uri": "https://localhost:8080/",
          "height": 295
        },
        "id": "ATJURgAMcLTY",
        "outputId": "2cfc00d3-fcbc-48d5-aa7d-b9f7df0e65ee"
      },
      "execution_count": 40,
      "outputs": [
        {
          "output_type": "display_data",
          "data": {
            "image/png": "[encoded data removed]",
            "text/plain": [
              "<Figure size 432x288 with 1 Axes>"
            ]
          },
          "metadata": {
            "needs_background": "light"
          }
        }
      ]
    },
    {
      "cell_type": "code",
      "source": [
        ""
      ],
      "metadata": {
        "id": "9ZfvRwTsc4HK"
      },
      "execution_count": null,
      "outputs": []
    }
  ]
}